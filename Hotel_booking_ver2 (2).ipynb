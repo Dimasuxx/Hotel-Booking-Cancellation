{
  "cells": [
    {
      "cell_type": "code",
      "execution_count": null,
      "id": "47ccacde-90f9-4fb6-ab90-767dc5a46f69",
      "metadata": {
        "tags": [],
        "id": "47ccacde-90f9-4fb6-ab90-767dc5a46f69",
        "outputId": "f9b063e0-97f6-488d-a0d2-146b44505139"
      },
      "outputs": [
        {
          "name": "stdout",
          "output_type": "stream",
          "text": [
            "Requirement already satisfied: category_encoders in c:\\users\\lenovo\\anaconda3\\lib\\site-packages (2.5.1.post0)\n",
            "Requirement already satisfied: patsy>=0.5.1 in c:\\users\\lenovo\\anaconda3\\lib\\site-packages (from category_encoders) (0.5.2)\n",
            "Requirement already satisfied: statsmodels>=0.9.0 in c:\\users\\lenovo\\anaconda3\\lib\\site-packages (from category_encoders) (0.12.2)\n",
            "Requirement already satisfied: numpy>=1.14.0 in c:\\users\\lenovo\\anaconda3\\lib\\site-packages (from category_encoders) (1.20.3)\n",
            "Requirement already satisfied: scipy>=1.0.0 in c:\\users\\lenovo\\anaconda3\\lib\\site-packages (from category_encoders) (1.7.1)\n",
            "Requirement already satisfied: scikit-learn>=0.20.0 in c:\\users\\lenovo\\anaconda3\\lib\\site-packages (from category_encoders) (1.1.3)\n",
            "Requirement already satisfied: pandas>=1.0.5 in c:\\users\\lenovo\\anaconda3\\lib\\site-packages (from category_encoders) (1.3.4)\n",
            "Requirement already satisfied: pytz>=2017.3 in c:\\users\\lenovo\\anaconda3\\lib\\site-packages (from pandas>=1.0.5->category_encoders) (2021.3)\n",
            "Requirement already satisfied: python-dateutil>=2.7.3 in c:\\users\\lenovo\\anaconda3\\lib\\site-packages (from pandas>=1.0.5->category_encoders) (2.8.2)\n",
            "Requirement already satisfied: six in c:\\users\\lenovo\\anaconda3\\lib\\site-packages (from patsy>=0.5.1->category_encoders) (1.16.0)\n",
            "Requirement already satisfied: joblib>=1.0.0 in c:\\users\\lenovo\\anaconda3\\lib\\site-packages (from scikit-learn>=0.20.0->category_encoders) (1.1.0)\n",
            "Requirement already satisfied: threadpoolctl>=2.0.0 in c:\\users\\lenovo\\anaconda3\\lib\\site-packages (from scikit-learn>=0.20.0->category_encoders) (2.2.0)\n",
            "Requirement already satisfied: lime in c:\\users\\lenovo\\anaconda3\\lib\\site-packages (0.2.0.1)\n",
            "Requirement already satisfied: numpy in c:\\users\\lenovo\\anaconda3\\lib\\site-packages (from lime) (1.20.3)\n",
            "Requirement already satisfied: scikit-image>=0.12 in c:\\users\\lenovo\\anaconda3\\lib\\site-packages (from lime) (0.18.3)\n",
            "Requirement already satisfied: tqdm in c:\\users\\lenovo\\anaconda3\\lib\\site-packages (from lime) (4.62.3)\n",
            "Requirement already satisfied: scipy in c:\\users\\lenovo\\anaconda3\\lib\\site-packages (from lime) (1.7.1)\n",
            "Requirement already satisfied: matplotlib in c:\\users\\lenovo\\anaconda3\\lib\\site-packages (from lime) (3.4.3)\n",
            "Requirement already satisfied: scikit-learn>=0.18 in c:\\users\\lenovo\\anaconda3\\lib\\site-packages (from lime) (1.1.3)\n",
            "Requirement already satisfied: networkx>=2.0 in c:\\users\\lenovo\\anaconda3\\lib\\site-packages (from scikit-image>=0.12->lime) (2.6.3)\n",
            "Requirement already satisfied: pillow!=7.1.0,!=7.1.1,>=4.3.0 in c:\\users\\lenovo\\anaconda3\\lib\\site-packages (from scikit-image>=0.12->lime) (8.4.0)\n",
            "Requirement already satisfied: imageio>=2.3.0 in c:\\users\\lenovo\\anaconda3\\lib\\site-packages (from scikit-image>=0.12->lime) (2.9.0)\n",
            "Requirement already satisfied: tifffile>=2019.7.26 in c:\\users\\lenovo\\anaconda3\\lib\\site-packages (from scikit-image>=0.12->lime) (2021.7.2)\n",
            "Requirement already satisfied: PyWavelets>=1.1.1 in c:\\users\\lenovo\\anaconda3\\lib\\site-packages (from scikit-image>=0.12->lime) (1.1.1)\n",
            "Requirement already satisfied: kiwisolver>=1.0.1 in c:\\users\\lenovo\\anaconda3\\lib\\site-packages (from matplotlib->lime) (1.3.1)\n",
            "Requirement already satisfied: python-dateutil>=2.7 in c:\\users\\lenovo\\anaconda3\\lib\\site-packages (from matplotlib->lime) (2.8.2)\n",
            "Requirement already satisfied: cycler>=0.10 in c:\\users\\lenovo\\anaconda3\\lib\\site-packages (from matplotlib->lime) (0.10.0)\n",
            "Requirement already satisfied: pyparsing>=2.2.1 in c:\\users\\lenovo\\anaconda3\\lib\\site-packages (from matplotlib->lime) (3.0.4)\n",
            "Requirement already satisfied: six in c:\\users\\lenovo\\anaconda3\\lib\\site-packages (from cycler>=0.10->matplotlib->lime) (1.16.0)\n",
            "Requirement already satisfied: joblib>=1.0.0 in c:\\users\\lenovo\\anaconda3\\lib\\site-packages (from scikit-learn>=0.18->lime) (1.1.0)\n",
            "Requirement already satisfied: threadpoolctl>=2.0.0 in c:\\users\\lenovo\\anaconda3\\lib\\site-packages (from scikit-learn>=0.18->lime) (2.2.0)\n",
            "Requirement already satisfied: colorama in c:\\users\\lenovo\\anaconda3\\lib\\site-packages (from tqdm->lime) (0.4.4)\n",
            "Requirement already satisfied: shap in c:\\users\\lenovo\\anaconda3\\lib\\site-packages (0.41.0)\n",
            "Requirement already satisfied: numpy in c:\\users\\lenovo\\anaconda3\\lib\\site-packages (from shap) (1.20.3)\n",
            "Requirement already satisfied: tqdm>4.25.0 in c:\\users\\lenovo\\anaconda3\\lib\\site-packages (from shap) (4.62.3)\n",
            "Requirement already satisfied: slicer==0.0.7 in c:\\users\\lenovo\\anaconda3\\lib\\site-packages (from shap) (0.0.7)\n",
            "Requirement already satisfied: scipy in c:\\users\\lenovo\\anaconda3\\lib\\site-packages (from shap) (1.7.1)\n",
            "Requirement already satisfied: numba in c:\\users\\lenovo\\anaconda3\\lib\\site-packages (from shap) (0.54.1)\n",
            "Requirement already satisfied: pandas in c:\\users\\lenovo\\anaconda3\\lib\\site-packages (from shap) (1.3.4)\n",
            "Requirement already satisfied: packaging>20.9 in c:\\users\\lenovo\\anaconda3\\lib\\site-packages (from shap) (21.0)\n",
            "Requirement already satisfied: scikit-learn in c:\\users\\lenovo\\anaconda3\\lib\\site-packages (from shap) (1.1.3)\n",
            "Requirement already satisfied: cloudpickle in c:\\users\\lenovo\\anaconda3\\lib\\site-packages (from shap) (2.0.0)\n",
            "Requirement already satisfied: pyparsing>=2.0.2 in c:\\users\\lenovo\\anaconda3\\lib\\site-packages (from packaging>20.9->shap) (3.0.4)\n",
            "Requirement already satisfied: colorama in c:\\users\\lenovo\\anaconda3\\lib\\site-packages (from tqdm>4.25.0->shap) (0.4.4)\n",
            "Requirement already satisfied: llvmlite<0.38,>=0.37.0rc1 in c:\\users\\lenovo\\anaconda3\\lib\\site-packages (from numba->shap) (0.37.0)\n",
            "Requirement already satisfied: setuptools in c:\\users\\lenovo\\anaconda3\\lib\\site-packages (from numba->shap) (58.0.4)\n",
            "Requirement already satisfied: pytz>=2017.3 in c:\\users\\lenovo\\anaconda3\\lib\\site-packages (from pandas->shap) (2021.3)\n",
            "Requirement already satisfied: python-dateutil>=2.7.3 in c:\\users\\lenovo\\anaconda3\\lib\\site-packages (from pandas->shap) (2.8.2)\n",
            "Requirement already satisfied: six>=1.5 in c:\\users\\lenovo\\anaconda3\\lib\\site-packages (from python-dateutil>=2.7.3->pandas->shap) (1.16.0)\n",
            "Requirement already satisfied: joblib>=1.0.0 in c:\\users\\lenovo\\anaconda3\\lib\\site-packages (from scikit-learn->shap) (1.1.0)\n",
            "Requirement already satisfied: threadpoolctl>=2.0.0 in c:\\users\\lenovo\\anaconda3\\lib\\site-packages (from scikit-learn->shap) (2.2.0)\n"
          ]
        }
      ],
      "source": [
        "#import library FP\n",
        "import pandas as pd\n",
        "import matplotlib.pyplot as plt\n",
        "import seaborn as sns\n",
        "import numpy as np\n",
        "from scipy import stats\n",
        "from sklearn.preprocessing import MinMaxScaler, StandardScaler\n",
        "\n",
        "# VIF\n",
        "from statsmodels.stats.outliers_influence import variance_inflation_factor\n",
        "\n",
        "# Normality test\n",
        "from scipy.stats import shapiro\n",
        "from scipy.stats import normaltest\n",
        "\n",
        "# Preprocessing\n",
        "from sklearn.preprocessing import StandardScaler\n",
        "from sklearn.preprocessing import PowerTransformer\n",
        "from sklearn.impute import KNNImputer, SimpleImputer\n",
        "from sklearn.pipeline import Pipeline\n",
        "from sklearn.compose import ColumnTransformer\n",
        "from sklearn.model_selection import train_test_split\n",
        "from sklearn.preprocessing import OrdinalEncoder, OneHotEncoder\n",
        "!pip install category_encoders\n",
        "import category_encoders as ce\n",
        "from sklearn.neighbors import KNeighborsClassifier\n",
        "\n",
        "# Model\n",
        "import xgboost as xgb\n",
        "import statsmodels.api as sm \n",
        "\n",
        "# Cross Validation\n",
        "from sklearn.model_selection import cross_val_score\n",
        "from sklearn.model_selection import cross_validate\n",
        "\n",
        "# Hyperparameter tuning\n",
        "from sklearn.model_selection import GridSearchCV, RandomizedSearchCV\n",
        "\n",
        "#model\n",
        "from sklearn.linear_model import LogisticRegression\n",
        "from sklearn.ensemble import RandomForestClassifier,ExtraTreesClassifier\n",
        "from sklearn.tree import DecisionTreeClassifier\n",
        "from xgboost import XGBClassifier\n",
        "from sklearn.naive_bayes import GaussianNB\n",
        "from sklearn.metrics import roc_auc_score, roc_curve, RocCurveDisplay, precision_recall_curve, PrecisionRecallDisplay\n",
        "from sklearn import metrics\n",
        "from sklearn.metrics import confusion_matrix\n",
        "from sklearn.tree import DecisionTreeClassifier\n",
        "\n",
        "# eXplainable AI\n",
        "!pip install lime\n",
        "from lime import lime_tabular\n",
        "!pip install shap\n",
        "import shap"
      ]
    },
    {
      "cell_type": "markdown",
      "id": "fa612a9c-9e57-47ef-bf15-3c20f104a0c4",
      "metadata": {
        "id": "fa612a9c-9e57-47ef-bf15-3c20f104a0c4"
      },
      "source": [
        "Data Understanding\n",
        "\n",
        "Business metrics adalah cancelation rate\n",
        "\n",
        "Data berasal dari Kaggle"
      ]
    },
    {
      "cell_type": "code",
      "execution_count": null,
      "id": "5bb4278e-172a-4917-a531-31243165fc76",
      "metadata": {
        "id": "5bb4278e-172a-4917-a531-31243165fc76"
      },
      "outputs": [],
      "source": [
        "df = pd.read_csv(\"hotel_booking.csv\") \n",
        "pd.set_option(\"display.max_columns\", None)"
      ]
    },
    {
      "cell_type": "markdown",
      "id": "bd141e34-dbe7-49d9-a62e-777bba6d3df7",
      "metadata": {
        "id": "bd141e34-dbe7-49d9-a62e-777bba6d3df7"
      },
      "source": [
        "Pengecekan kesesuaian Data"
      ]
    },
    {
      "cell_type": "code",
      "execution_count": null,
      "id": "585ad93d-25b9-4913-8497-9dbc79c00804",
      "metadata": {
        "id": "585ad93d-25b9-4913-8497-9dbc79c00804",
        "outputId": "da6e6b4e-7cda-46a1-83e3-cbf04467892d"
      },
      "outputs": [
        {
          "name": "stdout",
          "output_type": "stream",
          "text": [
            "<class 'pandas.core.frame.DataFrame'>\n",
            "RangeIndex: 119390 entries, 0 to 119389\n",
            "Data columns (total 36 columns):\n",
            " #   Column                          Non-Null Count   Dtype  \n",
            "---  ------                          --------------   -----  \n",
            " 0   hotel                           119390 non-null  object \n",
            " 1   is_canceled                     119390 non-null  int64  \n",
            " 2   lead_time                       119390 non-null  int64  \n",
            " 3   arrival_date_year               119390 non-null  int64  \n",
            " 4   arrival_date_month              119390 non-null  object \n",
            " 5   arrival_date_week_number        119390 non-null  int64  \n",
            " 6   arrival_date_day_of_month       119390 non-null  int64  \n",
            " 7   stays_in_weekend_nights         119390 non-null  int64  \n",
            " 8   stays_in_week_nights            119390 non-null  int64  \n",
            " 9   adults                          119390 non-null  int64  \n",
            " 10  children                        119386 non-null  float64\n",
            " 11  babies                          119390 non-null  int64  \n",
            " 12  meal                            119390 non-null  object \n",
            " 13  country                         118902 non-null  object \n",
            " 14  market_segment                  119390 non-null  object \n",
            " 15  distribution_channel            119390 non-null  object \n",
            " 16  is_repeated_guest               119390 non-null  int64  \n",
            " 17  previous_cancellations          119390 non-null  int64  \n",
            " 18  previous_bookings_not_canceled  119390 non-null  int64  \n",
            " 19  reserved_room_type              119390 non-null  object \n",
            " 20  assigned_room_type              119390 non-null  object \n",
            " 21  booking_changes                 119390 non-null  int64  \n",
            " 22  deposit_type                    119390 non-null  object \n",
            " 23  agent                           103050 non-null  float64\n",
            " 24  company                         6797 non-null    float64\n",
            " 25  days_in_waiting_list            119390 non-null  int64  \n",
            " 26  customer_type                   119390 non-null  object \n",
            " 27  adr                             119390 non-null  float64\n",
            " 28  required_car_parking_spaces     119390 non-null  int64  \n",
            " 29  total_of_special_requests       119390 non-null  int64  \n",
            " 30  reservation_status              119390 non-null  object \n",
            " 31  reservation_status_date         119390 non-null  object \n",
            " 32  name                            119390 non-null  object \n",
            " 33  email                           119390 non-null  object \n",
            " 34  phone-number                    119390 non-null  object \n",
            " 35  credit_card                     119390 non-null  object \n",
            "dtypes: float64(4), int64(16), object(16)\n",
            "memory usage: 32.8+ MB\n"
          ]
        }
      ],
      "source": [
        "df.info()"
      ]
    },
    {
      "cell_type": "markdown",
      "id": "b99ef8b8-3729-4f03-8a68-52bcbffeed30",
      "metadata": {
        "id": "b99ef8b8-3729-4f03-8a68-52bcbffeed30"
      },
      "source": [
        "Dari deskripsi di atas terlihat jelas bahwa kolom company mempunyai missing values yang sangat banyak (112593 data), sementara kolom agent juga memiliki missing values yang banyak (6340 data). Kami memutuskan untuk mengedrop kolom tersebut untuk menghemat waktu pemodelan"
      ]
    },
    {
      "cell_type": "code",
      "execution_count": null,
      "id": "9dd6e8ee-9ff6-4cfc-b27f-aada5a8d2205",
      "metadata": {
        "id": "9dd6e8ee-9ff6-4cfc-b27f-aada5a8d2205"
      },
      "outputs": [],
      "source": [
        "df = df.drop(['company','agent'], axis = 1)"
      ]
    },
    {
      "cell_type": "markdown",
      "id": "0c9a811f-1269-4661-b651-7e0c782543d9",
      "metadata": {
        "id": "0c9a811f-1269-4661-b651-7e0c782543d9"
      },
      "source": [
        "Lalu dilakukan pengecekan pada missing values sekali lagi"
      ]
    },
    {
      "cell_type": "code",
      "execution_count": null,
      "id": "b82f32c9-2ae9-48eb-bea0-42c6c7cb640b",
      "metadata": {
        "id": "b82f32c9-2ae9-48eb-bea0-42c6c7cb640b",
        "outputId": "51964940-cd04-4106-ad32-ebc212090128"
      },
      "outputs": [
        {
          "data": {
            "text/plain": [
              "hotel                               0\n",
              "is_canceled                         0\n",
              "lead_time                           0\n",
              "arrival_date_year                   0\n",
              "arrival_date_month                  0\n",
              "arrival_date_week_number            0\n",
              "arrival_date_day_of_month           0\n",
              "stays_in_weekend_nights             0\n",
              "stays_in_week_nights                0\n",
              "adults                              0\n",
              "children                            4\n",
              "babies                              0\n",
              "meal                                0\n",
              "country                           488\n",
              "market_segment                      0\n",
              "distribution_channel                0\n",
              "is_repeated_guest                   0\n",
              "previous_cancellations              0\n",
              "previous_bookings_not_canceled      0\n",
              "reserved_room_type                  0\n",
              "assigned_room_type                  0\n",
              "booking_changes                     0\n",
              "deposit_type                        0\n",
              "days_in_waiting_list                0\n",
              "customer_type                       0\n",
              "adr                                 0\n",
              "required_car_parking_spaces         0\n",
              "total_of_special_requests           0\n",
              "reservation_status                  0\n",
              "reservation_status_date             0\n",
              "name                                0\n",
              "email                               0\n",
              "phone-number                        0\n",
              "credit_card                         0\n",
              "dtype: int64"
            ]
          },
          "execution_count": 13,
          "metadata": {},
          "output_type": "execute_result"
        }
      ],
      "source": [
        "df.isna().sum()"
      ]
    },
    {
      "cell_type": "markdown",
      "id": "f1f6f194-a760-4b93-89ce-f977df8d51df",
      "metadata": {
        "id": "f1f6f194-a760-4b93-89ce-f977df8d51df"
      },
      "source": [
        "Hanya terdapat 2 kolom (children, dan country) yang memiliki missing values, sehingga kolom ini akan dilakukan handle missing values. Selanjutnya dilakukan feature extraction tiap kolom untuk mengurangi kolom yang akan diproses"
      ]
    },
    {
      "cell_type": "code",
      "execution_count": null,
      "id": "e8251ead-9af5-47eb-b891-fb2e7951ced3",
      "metadata": {
        "id": "e8251ead-9af5-47eb-b891-fb2e7951ced3"
      },
      "outputs": [],
      "source": [
        "#Handling missing values\n",
        "df['children'] = df['children'].fillna(0)\n",
        "df['country'] = df['country'].fillna('Other')"
      ]
    },
    {
      "cell_type": "markdown",
      "id": "d2d54121-d20f-44a3-955b-615a09444a5f",
      "metadata": {
        "id": "d2d54121-d20f-44a3-955b-615a09444a5f"
      },
      "source": [
        "Kolom children missing values dapat diartikan tidak ada anak maka diberi 0, sementara untuk country missing values akan diartikan sebagai 'other'"
      ]
    },
    {
      "cell_type": "code",
      "execution_count": null,
      "id": "d85898f4-2aa3-406d-b13a-f297485d0c6d",
      "metadata": {
        "id": "d85898f4-2aa3-406d-b13a-f297485d0c6d",
        "outputId": "72474116-c519-403d-cb59-b08f422fa315"
      },
      "outputs": [
        {
          "name": "stdout",
          "output_type": "stream",
          "text": [
            "Data with 0 guest: 180 out of 119390 all data\n",
            "Data with 0 night: 715 out of 119390 all data\n"
          ]
        }
      ],
      "source": [
        "df['total_guests'] = df['adults'] + df['children'] + df['babies']\n",
        "print('Data with 0 guest: {0} out of {1} all data'.format(df[df['total_guests'] == 0].shape[0], df.shape[0]))\n",
        "df['stay_duration'] = df['stays_in_weekend_nights'] + df['stays_in_week_nights']\n",
        "print('Data with 0 night: {0} out of {1} all data'.format(df[df['stay_duration'] == 0].shape[0], df.shape[0]))\n",
        "df = df.drop(['adults','children','babies','stays_in_weekend_nights','stays_in_week_nights'], axis = 1)"
      ]
    },
    {
      "cell_type": "markdown",
      "id": "eec8389a-f715-4264-a8ee-e5b220a07ae7",
      "metadata": {
        "id": "eec8389a-f715-4264-a8ee-e5b220a07ae7"
      },
      "source": [
        "Pembuatan kolom total guest, dan stay duration untuk m,enggabungkan guest, dan durasi stay"
      ]
    },
    {
      "cell_type": "code",
      "execution_count": null,
      "id": "72f55d94-714b-4e73-96ca-75af7cac5122",
      "metadata": {
        "id": "72f55d94-714b-4e73-96ca-75af7cac5122"
      },
      "outputs": [],
      "source": [
        "local = []\n",
        "for index,kolom in df.iterrows():\n",
        "    if kolom['country'] == 'PRT':\n",
        "        local1 = 'Local'\n",
        "    else:\n",
        "        local1 = 'Not local'\n",
        "    local.append(local1)\n",
        "df['Is_local'] = local"
      ]
    },
    {
      "cell_type": "markdown",
      "id": "c0450a60-69cb-4c14-b708-0b089eba5446",
      "metadata": {
        "id": "c0450a60-69cb-4c14-b708-0b089eba5446"
      },
      "source": [
        "Pembuatan kolom yang melihat apakah guest merupakan local guest atau tidak. Asumsi bahwa hotel berada di Portugal, karena banyaknya pengunjung dari negara Portugal"
      ]
    },
    {
      "cell_type": "code",
      "execution_count": null,
      "id": "ac227529-22b4-4614-aa52-804262ba273f",
      "metadata": {
        "id": "ac227529-22b4-4614-aa52-804262ba273f"
      },
      "outputs": [],
      "source": [
        "df = df.drop(['country'], axis = 1)"
      ]
    },
    {
      "cell_type": "markdown",
      "id": "9449c997-3e57-43be-8e5f-2e80a85e9468",
      "metadata": {
        "id": "9449c997-3e57-43be-8e5f-2e80a85e9468"
      },
      "source": [
        "Drop kolom country karena redundant"
      ]
    },
    {
      "cell_type": "code",
      "execution_count": null,
      "id": "cd992f7b-bae6-4282-a5be-7c0a2e7897a6",
      "metadata": {
        "id": "cd992f7b-bae6-4282-a5be-7c0a2e7897a6"
      },
      "outputs": [],
      "source": [
        "df = df.drop(['arrival_date_year','arrival_date_month','arrival_date_week_number','arrival_date_day_of_month'], axis = 1)"
      ]
    },
    {
      "cell_type": "markdown",
      "id": "8bf2cca0-028c-4595-8d0a-1bae243915df",
      "metadata": {
        "id": "8bf2cca0-028c-4595-8d0a-1bae243915df"
      },
      "source": [
        "Melakukan drop column pada arrival date, karena redundant dengan lead time (Lead time sudah merepresentasikan interval reservasi guest dengan arrival nya)"
      ]
    },
    {
      "cell_type": "code",
      "execution_count": null,
      "id": "6fc8c070-f6cc-47c9-80ae-a07b8a0b8e19",
      "metadata": {
        "id": "6fc8c070-f6cc-47c9-80ae-a07b8a0b8e19"
      },
      "outputs": [],
      "source": [
        "df = df.drop(['meal','reserved_room_type','assigned_room_type'], axis = 1)"
      ]
    },
    {
      "cell_type": "markdown",
      "id": "6a8de28a-5916-4359-a18c-131dcb1a9d5a",
      "metadata": {
        "id": "6a8de28a-5916-4359-a18c-131dcb1a9d5a"
      },
      "source": [
        "Melakukan drop pada kolom meal, assigned room type, dan reserved room type. Karena 3 kolom ini tidak mungkin mempengaruhi pelanggan mencancel booking (Pelanggan sudah tiba saat mendapatkan room type, dan meal sehingga tidak mungkin pelanggan melakukan cancel booking)"
      ]
    },
    {
      "cell_type": "code",
      "execution_count": null,
      "id": "b18b79e7-a17b-44c9-a4bd-23e6c32fb4fd",
      "metadata": {
        "id": "b18b79e7-a17b-44c9-a4bd-23e6c32fb4fd"
      },
      "outputs": [],
      "source": [
        "df = df.drop(['previous_bookings_not_canceled','days_in_waiting_list','reservation_status_date','name','email','phone-number','credit_card'], axis = 1)"
      ]
    },
    {
      "cell_type": "markdown",
      "id": "6ea22572-1817-4b71-82cb-9bc7dc6f3f8e",
      "metadata": {
        "id": "6ea22572-1817-4b71-82cb-9bc7dc6f3f8e"
      },
      "source": [
        "Melakukan drop pada kolom yang dianggap redundant (previous bookings not canceled, days in waiting list, reservation status date), dan tidak berguna (name,email,phone number, dan credit card) untuk modeling"
      ]
    },
    {
      "cell_type": "code",
      "execution_count": null,
      "id": "7ccbdca9-2da6-40ef-bb07-aabeb6a4a67b",
      "metadata": {
        "id": "7ccbdca9-2da6-40ef-bb07-aabeb6a4a67b",
        "outputId": "73677c62-79ac-4605-d517-c4ba5fce40ea"
      },
      "outputs": [
        {
          "data": {
            "text/plain": [
              "array(['Direct', 'Corporate', 'Online TA', 'Offline TA/TO',\n",
              "       'Complementary', 'Groups', 'Undefined', 'Aviation'], dtype=object)"
            ]
          },
          "execution_count": 21,
          "metadata": {},
          "output_type": "execute_result"
        }
      ],
      "source": [
        "df['market_segment'].unique()"
      ]
    },
    {
      "cell_type": "code",
      "execution_count": null,
      "id": "7c6d41f9-f788-4f43-96e5-c120663a98d3",
      "metadata": {
        "id": "7c6d41f9-f788-4f43-96e5-c120663a98d3",
        "outputId": "70f91ca7-b5a8-4137-edda-1463aa45c0bf"
      },
      "outputs": [
        {
          "data": {
            "text/plain": [
              "array(['Direct', 'Corporate', 'TA/TO', 'Undefined', 'GDS'], dtype=object)"
            ]
          },
          "execution_count": 22,
          "metadata": {},
          "output_type": "execute_result"
        }
      ],
      "source": [
        "df['distribution_channel'].unique()"
      ]
    },
    {
      "cell_type": "code",
      "execution_count": null,
      "id": "770b4cd8-8c97-401f-b7ea-d5f3c74d7b7c",
      "metadata": {
        "id": "770b4cd8-8c97-401f-b7ea-d5f3c74d7b7c",
        "outputId": "561b6273-94af-4575-abed-1f9f0a13b40d"
      },
      "outputs": [
        {
          "name": "stdout",
          "output_type": "stream",
          "text": [
            "<class 'pandas.core.frame.DataFrame'>\n",
            "RangeIndex: 119390 entries, 0 to 119389\n",
            "Data columns (total 17 columns):\n",
            " #   Column                       Non-Null Count   Dtype  \n",
            "---  ------                       --------------   -----  \n",
            " 0   hotel                        119390 non-null  object \n",
            " 1   is_canceled                  119390 non-null  int64  \n",
            " 2   lead_time                    119390 non-null  int64  \n",
            " 3   market_segment               119390 non-null  object \n",
            " 4   distribution_channel         119390 non-null  object \n",
            " 5   is_repeated_guest            119390 non-null  int64  \n",
            " 6   previous_cancellations       119390 non-null  int64  \n",
            " 7   booking_changes              119390 non-null  int64  \n",
            " 8   deposit_type                 119390 non-null  object \n",
            " 9   customer_type                119390 non-null  object \n",
            " 10  adr                          119390 non-null  float64\n",
            " 11  required_car_parking_spaces  119390 non-null  int64  \n",
            " 12  total_of_special_requests    119390 non-null  int64  \n",
            " 13  reservation_status           119390 non-null  object \n",
            " 14  total_guests                 119390 non-null  float64\n",
            " 15  stay_duration                119390 non-null  int64  \n",
            " 16  Is_local                     119390 non-null  object \n",
            "dtypes: float64(2), int64(8), object(7)\n",
            "memory usage: 15.5+ MB\n"
          ]
        }
      ],
      "source": [
        "df.info()"
      ]
    },
    {
      "cell_type": "markdown",
      "id": "4451675c-fbb0-434e-9a19-f2c71ae43e88",
      "metadata": {
        "id": "4451675c-fbb0-434e-9a19-f2c71ae43e88"
      },
      "source": [
        "Setelah melakukan evaluasi data terdapat 17 kolom, dan 119390 data untuk dilakukan proses modeling lebih lanjut. Kolom kolom ini akan ditentukan mana kategorikal, dan kolom numerical nya"
      ]
    },
    {
      "cell_type": "code",
      "execution_count": null,
      "id": "bdd47c6d-fe99-4f16-ac90-81306a4a65d9",
      "metadata": {
        "id": "bdd47c6d-fe99-4f16-ac90-81306a4a65d9",
        "outputId": "e708db7c-936d-406a-fff3-fc760acbc8a2"
      },
      "outputs": [
        {
          "data": {
            "text/html": [
              "<div>\n",
              "<style scoped>\n",
              "    .dataframe tbody tr th:only-of-type {\n",
              "        vertical-align: middle;\n",
              "    }\n",
              "\n",
              "    .dataframe tbody tr th {\n",
              "        vertical-align: top;\n",
              "    }\n",
              "\n",
              "    .dataframe thead th {\n",
              "        text-align: right;\n",
              "    }\n",
              "</style>\n",
              "<table border=\"1\" class=\"dataframe\">\n",
              "  <thead>\n",
              "    <tr style=\"text-align: right;\">\n",
              "      <th></th>\n",
              "      <th>is_canceled</th>\n",
              "      <th>lead_time</th>\n",
              "      <th>is_repeated_guest</th>\n",
              "      <th>previous_cancellations</th>\n",
              "      <th>booking_changes</th>\n",
              "      <th>adr</th>\n",
              "      <th>required_car_parking_spaces</th>\n",
              "      <th>total_of_special_requests</th>\n",
              "      <th>total_guests</th>\n",
              "      <th>stay_duration</th>\n",
              "    </tr>\n",
              "  </thead>\n",
              "  <tbody>\n",
              "    <tr>\n",
              "      <th>count</th>\n",
              "      <td>119390.000000</td>\n",
              "      <td>119390.000000</td>\n",
              "      <td>119390.000000</td>\n",
              "      <td>119390.000000</td>\n",
              "      <td>119390.000000</td>\n",
              "      <td>119390.000000</td>\n",
              "      <td>119390.000000</td>\n",
              "      <td>119390.000000</td>\n",
              "      <td>119390.000000</td>\n",
              "      <td>119390.000000</td>\n",
              "    </tr>\n",
              "    <tr>\n",
              "      <th>mean</th>\n",
              "      <td>0.370416</td>\n",
              "      <td>104.011416</td>\n",
              "      <td>0.031912</td>\n",
              "      <td>0.087118</td>\n",
              "      <td>0.221124</td>\n",
              "      <td>101.831122</td>\n",
              "      <td>0.062518</td>\n",
              "      <td>0.571363</td>\n",
              "      <td>1.968239</td>\n",
              "      <td>3.427900</td>\n",
              "    </tr>\n",
              "    <tr>\n",
              "      <th>std</th>\n",
              "      <td>0.482918</td>\n",
              "      <td>106.863097</td>\n",
              "      <td>0.175767</td>\n",
              "      <td>0.844336</td>\n",
              "      <td>0.652306</td>\n",
              "      <td>50.535790</td>\n",
              "      <td>0.245291</td>\n",
              "      <td>0.792798</td>\n",
              "      <td>0.722394</td>\n",
              "      <td>2.557439</td>\n",
              "    </tr>\n",
              "    <tr>\n",
              "      <th>min</th>\n",
              "      <td>0.000000</td>\n",
              "      <td>0.000000</td>\n",
              "      <td>0.000000</td>\n",
              "      <td>0.000000</td>\n",
              "      <td>0.000000</td>\n",
              "      <td>-6.380000</td>\n",
              "      <td>0.000000</td>\n",
              "      <td>0.000000</td>\n",
              "      <td>0.000000</td>\n",
              "      <td>0.000000</td>\n",
              "    </tr>\n",
              "    <tr>\n",
              "      <th>25%</th>\n",
              "      <td>0.000000</td>\n",
              "      <td>18.000000</td>\n",
              "      <td>0.000000</td>\n",
              "      <td>0.000000</td>\n",
              "      <td>0.000000</td>\n",
              "      <td>69.290000</td>\n",
              "      <td>0.000000</td>\n",
              "      <td>0.000000</td>\n",
              "      <td>2.000000</td>\n",
              "      <td>2.000000</td>\n",
              "    </tr>\n",
              "    <tr>\n",
              "      <th>50%</th>\n",
              "      <td>0.000000</td>\n",
              "      <td>69.000000</td>\n",
              "      <td>0.000000</td>\n",
              "      <td>0.000000</td>\n",
              "      <td>0.000000</td>\n",
              "      <td>94.575000</td>\n",
              "      <td>0.000000</td>\n",
              "      <td>0.000000</td>\n",
              "      <td>2.000000</td>\n",
              "      <td>3.000000</td>\n",
              "    </tr>\n",
              "    <tr>\n",
              "      <th>75%</th>\n",
              "      <td>1.000000</td>\n",
              "      <td>160.000000</td>\n",
              "      <td>0.000000</td>\n",
              "      <td>0.000000</td>\n",
              "      <td>0.000000</td>\n",
              "      <td>126.000000</td>\n",
              "      <td>0.000000</td>\n",
              "      <td>1.000000</td>\n",
              "      <td>2.000000</td>\n",
              "      <td>4.000000</td>\n",
              "    </tr>\n",
              "    <tr>\n",
              "      <th>max</th>\n",
              "      <td>1.000000</td>\n",
              "      <td>737.000000</td>\n",
              "      <td>1.000000</td>\n",
              "      <td>26.000000</td>\n",
              "      <td>21.000000</td>\n",
              "      <td>5400.000000</td>\n",
              "      <td>8.000000</td>\n",
              "      <td>5.000000</td>\n",
              "      <td>55.000000</td>\n",
              "      <td>69.000000</td>\n",
              "    </tr>\n",
              "  </tbody>\n",
              "</table>\n",
              "</div>"
            ],
            "text/plain": [
              "         is_canceled      lead_time  is_repeated_guest  \\\n",
              "count  119390.000000  119390.000000      119390.000000   \n",
              "mean        0.370416     104.011416           0.031912   \n",
              "std         0.482918     106.863097           0.175767   \n",
              "min         0.000000       0.000000           0.000000   \n",
              "25%         0.000000      18.000000           0.000000   \n",
              "50%         0.000000      69.000000           0.000000   \n",
              "75%         1.000000     160.000000           0.000000   \n",
              "max         1.000000     737.000000           1.000000   \n",
              "\n",
              "       previous_cancellations  booking_changes            adr  \\\n",
              "count           119390.000000    119390.000000  119390.000000   \n",
              "mean                 0.087118         0.221124     101.831122   \n",
              "std                  0.844336         0.652306      50.535790   \n",
              "min                  0.000000         0.000000      -6.380000   \n",
              "25%                  0.000000         0.000000      69.290000   \n",
              "50%                  0.000000         0.000000      94.575000   \n",
              "75%                  0.000000         0.000000     126.000000   \n",
              "max                 26.000000        21.000000    5400.000000   \n",
              "\n",
              "       required_car_parking_spaces  total_of_special_requests   total_guests  \\\n",
              "count                119390.000000              119390.000000  119390.000000   \n",
              "mean                      0.062518                   0.571363       1.968239   \n",
              "std                       0.245291                   0.792798       0.722394   \n",
              "min                       0.000000                   0.000000       0.000000   \n",
              "25%                       0.000000                   0.000000       2.000000   \n",
              "50%                       0.000000                   0.000000       2.000000   \n",
              "75%                       0.000000                   1.000000       2.000000   \n",
              "max                       8.000000                   5.000000      55.000000   \n",
              "\n",
              "       stay_duration  \n",
              "count  119390.000000  \n",
              "mean        3.427900  \n",
              "std         2.557439  \n",
              "min         0.000000  \n",
              "25%         2.000000  \n",
              "50%         3.000000  \n",
              "75%         4.000000  \n",
              "max        69.000000  "
            ]
          },
          "execution_count": 24,
          "metadata": {},
          "output_type": "execute_result"
        }
      ],
      "source": [
        "#describe untuk data numerik\n",
        "df.describe()"
      ]
    },
    {
      "cell_type": "code",
      "execution_count": null,
      "id": "645fb154-fd4e-4316-a567-0cbf0c6bc55f",
      "metadata": {
        "id": "645fb154-fd4e-4316-a567-0cbf0c6bc55f",
        "outputId": "a09d6e5b-ff91-48fd-ce9d-b70437d5b289"
      },
      "outputs": [
        {
          "data": {
            "text/html": [
              "<div>\n",
              "<style scoped>\n",
              "    .dataframe tbody tr th:only-of-type {\n",
              "        vertical-align: middle;\n",
              "    }\n",
              "\n",
              "    .dataframe tbody tr th {\n",
              "        vertical-align: top;\n",
              "    }\n",
              "\n",
              "    .dataframe thead th {\n",
              "        text-align: right;\n",
              "    }\n",
              "</style>\n",
              "<table border=\"1\" class=\"dataframe\">\n",
              "  <thead>\n",
              "    <tr style=\"text-align: right;\">\n",
              "      <th></th>\n",
              "      <th>hotel</th>\n",
              "      <th>market_segment</th>\n",
              "      <th>distribution_channel</th>\n",
              "      <th>deposit_type</th>\n",
              "      <th>customer_type</th>\n",
              "      <th>reservation_status</th>\n",
              "      <th>Is_local</th>\n",
              "    </tr>\n",
              "  </thead>\n",
              "  <tbody>\n",
              "    <tr>\n",
              "      <th>count</th>\n",
              "      <td>119390</td>\n",
              "      <td>119390</td>\n",
              "      <td>119390</td>\n",
              "      <td>119390</td>\n",
              "      <td>119390</td>\n",
              "      <td>119390</td>\n",
              "      <td>119390</td>\n",
              "    </tr>\n",
              "    <tr>\n",
              "      <th>unique</th>\n",
              "      <td>2</td>\n",
              "      <td>8</td>\n",
              "      <td>5</td>\n",
              "      <td>3</td>\n",
              "      <td>4</td>\n",
              "      <td>3</td>\n",
              "      <td>2</td>\n",
              "    </tr>\n",
              "    <tr>\n",
              "      <th>top</th>\n",
              "      <td>City Hotel</td>\n",
              "      <td>Online TA</td>\n",
              "      <td>TA/TO</td>\n",
              "      <td>No Deposit</td>\n",
              "      <td>Transient</td>\n",
              "      <td>Check-Out</td>\n",
              "      <td>Not local</td>\n",
              "    </tr>\n",
              "    <tr>\n",
              "      <th>freq</th>\n",
              "      <td>79330</td>\n",
              "      <td>56477</td>\n",
              "      <td>97870</td>\n",
              "      <td>104641</td>\n",
              "      <td>89613</td>\n",
              "      <td>75166</td>\n",
              "      <td>70800</td>\n",
              "    </tr>\n",
              "  </tbody>\n",
              "</table>\n",
              "</div>"
            ],
            "text/plain": [
              "             hotel market_segment distribution_channel deposit_type  \\\n",
              "count       119390         119390               119390       119390   \n",
              "unique           2              8                    5            3   \n",
              "top     City Hotel      Online TA                TA/TO   No Deposit   \n",
              "freq         79330          56477                97870       104641   \n",
              "\n",
              "       customer_type reservation_status   Is_local  \n",
              "count         119390             119390     119390  \n",
              "unique             4                  3          2  \n",
              "top        Transient          Check-Out  Not local  \n",
              "freq           89613              75166      70800  "
            ]
          },
          "execution_count": 25,
          "metadata": {},
          "output_type": "execute_result"
        }
      ],
      "source": [
        "#describe untuk data kategorik (string)\n",
        "df.describe(include='object')"
      ]
    },
    {
      "cell_type": "code",
      "execution_count": null,
      "id": "a59f4231-f305-4832-9681-d07b1734856d",
      "metadata": {
        "id": "a59f4231-f305-4832-9681-d07b1734856d"
      },
      "outputs": [],
      "source": [
        "# variabel numeric\n",
        "numeric_var = ['lead_time','previous_cancellations','booking_changes','adr','required_car_parking_spaces','total_of_special_requests','total_guests',\n",
        "               'stay_duration']\n",
        "\n",
        "# variabel categoric\n",
        "categoric_var = ['is_repeated_guest','hotel','market_segment','distribution_channel','deposit_type','customer_type','reservation_status','Is_local']\n",
        "\n",
        "# target\n",
        "target = df['is_canceled']"
      ]
    },
    {
      "cell_type": "markdown",
      "id": "822b8210-a238-45cd-8d6c-54c46d68f70c",
      "metadata": {
        "id": "822b8210-a238-45cd-8d6c-54c46d68f70c"
      },
      "source": [
        "Cell di atas menunjukkan kolom mana saja yang berupa numerik, dan kategorik"
      ]
    },
    {
      "cell_type": "markdown",
      "id": "5d2ed54e-9b61-47a2-8752-1a52ea9fd27b",
      "metadata": {
        "id": "5d2ed54e-9b61-47a2-8752-1a52ea9fd27b"
      },
      "source": [
        "EDA (Exploratory Data Analysis)"
      ]
    },
    {
      "cell_type": "markdown",
      "id": "cfdc2a18-d3e6-48b1-8293-ebe42ea4c430",
      "metadata": {
        "id": "cfdc2a18-d3e6-48b1-8293-ebe42ea4c430"
      },
      "source": [
        "Data Distribution"
      ]
    },
    {
      "cell_type": "code",
      "execution_count": null,
      "id": "bee48054-fa6d-4bfe-b863-d6ec9a9d233f",
      "metadata": {
        "id": "bee48054-fa6d-4bfe-b863-d6ec9a9d233f",
        "outputId": "b2e2c393-68f9-4ccb-fc05-6211374af169"
      },
      "outputs": [
        {
          "data": {
            "image/png": "[encoded data removed]",
            "text/plain": [
              "<Figure size 1440x576 with 8 Axes>"
            ]
          },
          "metadata": {
            "needs_background": "light"
          },
          "output_type": "display_data"
        }
      ],
      "source": [
        "plt.figure(figsize=(20,8))\n",
        "for i in enumerate(numeric_var):\n",
        "  plt.subplot(2,4,i[0]+1)\n",
        "  sns.histplot(df[i[1]], kde=True);"
      ]
    },
    {
      "cell_type": "markdown",
      "id": "17b58869-ccfb-443a-9589-b23c60d06238",
      "metadata": {
        "id": "17b58869-ccfb-443a-9589-b23c60d06238"
      },
      "source": [
        "Terlihat bahwa data tidak terdistribusi normal"
      ]
    },
    {
      "cell_type": "markdown",
      "id": "11c8bdd2-66e6-47e5-836b-904b8262a739",
      "metadata": {
        "id": "11c8bdd2-66e6-47e5-836b-904b8262a739"
      },
      "source": [
        "Boxplot"
      ]
    },
    {
      "cell_type": "code",
      "execution_count": null,
      "id": "b274f6e1-69df-4891-a550-2851ca9f2257",
      "metadata": {
        "id": "b274f6e1-69df-4891-a550-2851ca9f2257",
        "outputId": "d60b3a25-b93d-4538-9125-8171d894aa53"
      },
      "outputs": [
        {
          "data": {
            "image/png": "[encoded data removed]",
            "text/plain": [
              "<Figure size 1440x576 with 8 Axes>"
            ]
          },
          "metadata": {
            "needs_background": "light"
          },
          "output_type": "display_data"
        }
      ],
      "source": [
        "plt.figure(figsize=(20,8))\n",
        "for i in enumerate(numeric_var):\n",
        "  plt.subplot(2,4,i[0]+1)\n",
        "  sns.boxplot(x = df[i[1]]);"
      ]
    },
    {
      "cell_type": "markdown",
      "id": "fb2103b4-076b-40a2-80a0-efaf85ba8c1d",
      "metadata": {
        "id": "fb2103b4-076b-40a2-80a0-efaf85ba8c1d"
      },
      "source": [
        "Dapat terlihat bahwa seluruh kolom memiliki distribusi skewed ke kanan. Terlihat dari box plot bahwa banyak outlier yang ada pada setiap kolom. Namun, kelompok kami akan membiarkannya karena kebanyakan dari outlier iniadalah local outlier, yang mungkin memang seperti itu datanya. Untuk global outlier pada kolom lead_time, adr, required car spaces, total special request, dan stay duration akan dilihat lebih jelas"
      ]
    },
    {
      "cell_type": "markdown",
      "id": "ab066456-8c99-4675-9cec-9cfc0e41d68c",
      "metadata": {
        "id": "ab066456-8c99-4675-9cec-9cfc0e41d68c"
      },
      "source": [
        "Kolom Lead Time"
      ]
    },
    {
      "cell_type": "markdown",
      "id": "32eae3dc-e011-4048-93bc-2cd448b7ff19",
      "metadata": {
        "id": "32eae3dc-e011-4048-93bc-2cd448b7ff19"
      },
      "source": [
        "Lead time adalah waktu interval dari booking dengan arrival, maka akan dievaluasi outlier yang ada"
      ]
    },
    {
      "cell_type": "code",
      "execution_count": null,
      "id": "6227673c-1956-45d2-b971-9a6a20595e81",
      "metadata": {
        "id": "6227673c-1956-45d2-b971-9a6a20595e81",
        "outputId": "be2007e3-480f-4a45-8e9d-71a86357f6c1"
      },
      "outputs": [
        {
          "data": {
            "text/html": [
              "<div>\n",
              "<style scoped>\n",
              "    .dataframe tbody tr th:only-of-type {\n",
              "        vertical-align: middle;\n",
              "    }\n",
              "\n",
              "    .dataframe tbody tr th {\n",
              "        vertical-align: top;\n",
              "    }\n",
              "\n",
              "    .dataframe thead th {\n",
              "        text-align: right;\n",
              "    }\n",
              "</style>\n",
              "<table border=\"1\" class=\"dataframe\">\n",
              "  <thead>\n",
              "    <tr style=\"text-align: right;\">\n",
              "      <th></th>\n",
              "      <th>hotel</th>\n",
              "      <th>is_canceled</th>\n",
              "      <th>lead_time</th>\n",
              "      <th>market_segment</th>\n",
              "      <th>distribution_channel</th>\n",
              "      <th>is_repeated_guest</th>\n",
              "      <th>previous_cancellations</th>\n",
              "      <th>booking_changes</th>\n",
              "      <th>deposit_type</th>\n",
              "      <th>customer_type</th>\n",
              "      <th>adr</th>\n",
              "      <th>required_car_parking_spaces</th>\n",
              "      <th>total_of_special_requests</th>\n",
              "      <th>reservation_status</th>\n",
              "      <th>total_guests</th>\n",
              "      <th>stay_duration</th>\n",
              "      <th>Is_local</th>\n",
              "    </tr>\n",
              "  </thead>\n",
              "  <tbody>\n",
              "    <tr>\n",
              "      <th>1</th>\n",
              "      <td>Resort Hotel</td>\n",
              "      <td>0</td>\n",
              "      <td>737</td>\n",
              "      <td>Direct</td>\n",
              "      <td>Direct</td>\n",
              "      <td>0</td>\n",
              "      <td>0</td>\n",
              "      <td>4</td>\n",
              "      <td>No Deposit</td>\n",
              "      <td>Transient</td>\n",
              "      <td>0.0</td>\n",
              "      <td>0</td>\n",
              "      <td>0</td>\n",
              "      <td>Check-Out</td>\n",
              "      <td>2.0</td>\n",
              "      <td>0</td>\n",
              "      <td>Local</td>\n",
              "    </tr>\n",
              "    <tr>\n",
              "      <th>4182</th>\n",
              "      <td>Resort Hotel</td>\n",
              "      <td>0</td>\n",
              "      <td>709</td>\n",
              "      <td>Direct</td>\n",
              "      <td>Direct</td>\n",
              "      <td>0</td>\n",
              "      <td>0</td>\n",
              "      <td>2</td>\n",
              "      <td>No Deposit</td>\n",
              "      <td>Transient</td>\n",
              "      <td>68.0</td>\n",
              "      <td>0</td>\n",
              "      <td>0</td>\n",
              "      <td>Check-Out</td>\n",
              "      <td>2.0</td>\n",
              "      <td>28</td>\n",
              "      <td>Not local</td>\n",
              "    </tr>\n",
              "    <tr>\n",
              "      <th>65237</th>\n",
              "      <td>City Hotel</td>\n",
              "      <td>1</td>\n",
              "      <td>629</td>\n",
              "      <td>Groups</td>\n",
              "      <td>TA/TO</td>\n",
              "      <td>0</td>\n",
              "      <td>0</td>\n",
              "      <td>0</td>\n",
              "      <td>Non Refund</td>\n",
              "      <td>Transient</td>\n",
              "      <td>62.0</td>\n",
              "      <td>0</td>\n",
              "      <td>0</td>\n",
              "      <td>Canceled</td>\n",
              "      <td>2.0</td>\n",
              "      <td>2</td>\n",
              "      <td>Local</td>\n",
              "    </tr>\n",
              "    <tr>\n",
              "      <th>65244</th>\n",
              "      <td>City Hotel</td>\n",
              "      <td>1</td>\n",
              "      <td>629</td>\n",
              "      <td>Groups</td>\n",
              "      <td>TA/TO</td>\n",
              "      <td>0</td>\n",
              "      <td>0</td>\n",
              "      <td>0</td>\n",
              "      <td>Non Refund</td>\n",
              "      <td>Transient</td>\n",
              "      <td>62.0</td>\n",
              "      <td>0</td>\n",
              "      <td>0</td>\n",
              "      <td>Canceled</td>\n",
              "      <td>2.0</td>\n",
              "      <td>2</td>\n",
              "      <td>Local</td>\n",
              "    </tr>\n",
              "    <tr>\n",
              "      <th>65254</th>\n",
              "      <td>City Hotel</td>\n",
              "      <td>1</td>\n",
              "      <td>629</td>\n",
              "      <td>Groups</td>\n",
              "      <td>TA/TO</td>\n",
              "      <td>0</td>\n",
              "      <td>0</td>\n",
              "      <td>0</td>\n",
              "      <td>Non Refund</td>\n",
              "      <td>Transient</td>\n",
              "      <td>62.0</td>\n",
              "      <td>0</td>\n",
              "      <td>0</td>\n",
              "      <td>Canceled</td>\n",
              "      <td>2.0</td>\n",
              "      <td>2</td>\n",
              "      <td>Local</td>\n",
              "    </tr>\n",
              "  </tbody>\n",
              "</table>\n",
              "</div>"
            ],
            "text/plain": [
              "              hotel  is_canceled  lead_time market_segment  \\\n",
              "1      Resort Hotel            0        737         Direct   \n",
              "4182   Resort Hotel            0        709         Direct   \n",
              "65237    City Hotel            1        629         Groups   \n",
              "65244    City Hotel            1        629         Groups   \n",
              "65254    City Hotel            1        629         Groups   \n",
              "\n",
              "      distribution_channel  is_repeated_guest  previous_cancellations  \\\n",
              "1                   Direct                  0                       0   \n",
              "4182                Direct                  0                       0   \n",
              "65237                TA/TO                  0                       0   \n",
              "65244                TA/TO                  0                       0   \n",
              "65254                TA/TO                  0                       0   \n",
              "\n",
              "       booking_changes deposit_type customer_type   adr  \\\n",
              "1                    4   No Deposit     Transient   0.0   \n",
              "4182                 2   No Deposit     Transient  68.0   \n",
              "65237                0   Non Refund     Transient  62.0   \n",
              "65244                0   Non Refund     Transient  62.0   \n",
              "65254                0   Non Refund     Transient  62.0   \n",
              "\n",
              "       required_car_parking_spaces  total_of_special_requests  \\\n",
              "1                                0                          0   \n",
              "4182                             0                          0   \n",
              "65237                            0                          0   \n",
              "65244                            0                          0   \n",
              "65254                            0                          0   \n",
              "\n",
              "      reservation_status  total_guests  stay_duration   Is_local  \n",
              "1              Check-Out           2.0              0      Local  \n",
              "4182           Check-Out           2.0             28  Not local  \n",
              "65237           Canceled           2.0              2      Local  \n",
              "65244           Canceled           2.0              2      Local  \n",
              "65254           Canceled           2.0              2      Local  "
            ]
          },
          "execution_count": 29,
          "metadata": {},
          "output_type": "execute_result"
        }
      ],
      "source": [
        "df[df['lead_time'] > 250].sort_values(by='lead_time',ascending=False).head()"
      ]
    },
    {
      "cell_type": "markdown",
      "id": "72fa56e1-366d-4b95-8ccf-a6bed189ae80",
      "metadata": {
        "id": "72fa56e1-366d-4b95-8ccf-a6bed189ae80"
      },
      "source": [
        "Terlihat bahwa, banyak data yang memiliki lead time lebih dari 1 tahun. Outlier ini akan kami biarkan, dengan asumsi bahwa hotel memang memperbolehkan tamu memesan kamar dengan interval 1 tahun dari arrival date"
      ]
    },
    {
      "cell_type": "markdown",
      "id": "23d6c6db-8269-4b9c-985a-0d2be8cd61f3",
      "metadata": {
        "id": "23d6c6db-8269-4b9c-985a-0d2be8cd61f3"
      },
      "source": [
        "Kolom adr"
      ]
    },
    {
      "cell_type": "markdown",
      "id": "6501dca4-91c9-4fae-bbc9-aba41ece40e5",
      "metadata": {
        "id": "6501dca4-91c9-4fae-bbc9-aba41ece40e5"
      },
      "source": [
        "adr (Average Daily Rate) merupakan harga sewa rata rata per hari. Dihitung dengan membagi total biaya dengan lama stay"
      ]
    },
    {
      "cell_type": "code",
      "execution_count": null,
      "id": "63d36bca-90a1-4cbb-9006-5f26dcaa8981",
      "metadata": {
        "id": "63d36bca-90a1-4cbb-9006-5f26dcaa8981",
        "outputId": "a93539a0-540c-40b2-8477-90b3d743bb97"
      },
      "outputs": [
        {
          "data": {
            "text/plain": [
              "5400.0"
            ]
          },
          "execution_count": 30,
          "metadata": {},
          "output_type": "execute_result"
        }
      ],
      "source": [
        "df['adr'].max()"
      ]
    },
    {
      "cell_type": "markdown",
      "id": "5191ab70-31cd-4aea-9e0b-790c13556acf",
      "metadata": {
        "id": "5191ab70-31cd-4aea-9e0b-790c13556acf"
      },
      "source": [
        "Terlihat bahwa outlier bernilai sebesar 5400. Hal ini akan kami biarkan, karena kemungkinan guest ini menyewa kamar dengan rate tinggi untuk jangka waktu lama"
      ]
    },
    {
      "cell_type": "markdown",
      "id": "63af0749-85b4-45d2-9891-f4aff425a38a",
      "metadata": {
        "id": "63af0749-85b4-45d2-9891-f4aff425a38a"
      },
      "source": [
        "Kolom car spaces"
      ]
    },
    {
      "cell_type": "code",
      "execution_count": null,
      "id": "386bfa2c-aa52-4a60-99d9-5b415d1e05d9",
      "metadata": {
        "id": "386bfa2c-aa52-4a60-99d9-5b415d1e05d9",
        "outputId": "855d8714-2724-4769-8d4d-1003e4302428"
      },
      "outputs": [
        {
          "data": {
            "text/plain": [
              "0    0\n",
              "dtype: int64"
            ]
          },
          "execution_count": 31,
          "metadata": {},
          "output_type": "execute_result"
        }
      ],
      "source": [
        "df['required_car_parking_spaces'].mode()"
      ]
    },
    {
      "cell_type": "code",
      "execution_count": null,
      "id": "acd9ba40-c651-438b-9591-52d4d540406c",
      "metadata": {
        "id": "acd9ba40-c651-438b-9591-52d4d540406c",
        "outputId": "0f2e4f2d-8b39-47c5-bb4b-530d70abf49a"
      },
      "outputs": [
        {
          "data": {
            "text/plain": [
              "hotel                          7416\n",
              "is_canceled                    7416\n",
              "lead_time                      7416\n",
              "market_segment                 7416\n",
              "distribution_channel           7416\n",
              "is_repeated_guest              7416\n",
              "previous_cancellations         7416\n",
              "booking_changes                7416\n",
              "deposit_type                   7416\n",
              "customer_type                  7416\n",
              "adr                            7416\n",
              "required_car_parking_spaces    7416\n",
              "total_of_special_requests      7416\n",
              "reservation_status             7416\n",
              "total_guests                   7416\n",
              "stay_duration                  7416\n",
              "Is_local                       7416\n",
              "dtype: int64"
            ]
          },
          "execution_count": 32,
          "metadata": {},
          "output_type": "execute_result"
        }
      ],
      "source": [
        "df[df['required_car_parking_spaces']>0].count()"
      ]
    },
    {
      "cell_type": "code",
      "execution_count": null,
      "id": "0c9513a2-d4c5-4da9-8fd3-3c52b9883ba5",
      "metadata": {
        "id": "0c9513a2-d4c5-4da9-8fd3-3c52b9883ba5",
        "outputId": "7ece80e5-ae50-4772-a6a5-66faeb1832d4"
      },
      "outputs": [
        {
          "data": {
            "text/plain": [
              "8"
            ]
          },
          "execution_count": 33,
          "metadata": {},
          "output_type": "execute_result"
        }
      ],
      "source": [
        "df['required_car_parking_spaces'].max()"
      ]
    },
    {
      "cell_type": "markdown",
      "id": "f5c793af-f1c3-4a47-9806-28b4e7290efb",
      "metadata": {
        "id": "f5c793af-f1c3-4a47-9806-28b4e7290efb"
      },
      "source": [
        "Dari sini terlihat bahwa, sebenarnya tidak banyak orang yang membutuhkan parkir, namun outlier menunjukkan angka 8. Hal ini juga akan dibiarkan, dikarenakan mungkin terdapat guest berupa company yang membawa grup banyak sehingga mobil mungkin lebih dari 5"
      ]
    },
    {
      "cell_type": "markdown",
      "id": "555802d7-96fe-4473-8c21-6fe0131730b1",
      "metadata": {
        "id": "555802d7-96fe-4473-8c21-6fe0131730b1"
      },
      "source": [
        "Kolom total special requests"
      ]
    },
    {
      "cell_type": "code",
      "execution_count": null,
      "id": "ac7fe138-d869-4c1d-b262-f3c58918939a",
      "metadata": {
        "id": "ac7fe138-d869-4c1d-b262-f3c58918939a",
        "outputId": "6eab6b46-3c75-49c2-d884-5e07a1e8b6e1"
      },
      "outputs": [
        {
          "data": {
            "text/plain": [
              "8"
            ]
          },
          "execution_count": 34,
          "metadata": {},
          "output_type": "execute_result"
        }
      ],
      "source": [
        "df['required_car_parking_spaces'].max()"
      ]
    },
    {
      "cell_type": "code",
      "execution_count": null,
      "id": "43f2026b-a512-4a86-9379-bbc29a68b343",
      "metadata": {
        "id": "43f2026b-a512-4a86-9379-bbc29a68b343",
        "outputId": "b8daf1d6-0920-4e92-e096-35696ba14892"
      },
      "outputs": [
        {
          "data": {
            "text/plain": [
              "0    0\n",
              "dtype: int64"
            ]
          },
          "execution_count": 35,
          "metadata": {},
          "output_type": "execute_result"
        }
      ],
      "source": [
        "df['required_car_parking_spaces'].mode()"
      ]
    },
    {
      "cell_type": "markdown",
      "id": "57964663-215a-4590-9819-7a2846dd587a",
      "metadata": {
        "id": "57964663-215a-4590-9819-7a2846dd587a"
      },
      "source": [
        "Kolom special request menunjukkan banyaknya permintaan spesial dari pelanggan, seperti memesan makanan, memesan double bed, etc. Kolom ini juga dibiarkan"
      ]
    },
    {
      "cell_type": "markdown",
      "id": "d9466006-b7aa-4f1d-af4e-e497949e8a93",
      "metadata": {
        "id": "d9466006-b7aa-4f1d-af4e-e497949e8a93"
      },
      "source": [
        "Kolom Stay Duration"
      ]
    },
    {
      "cell_type": "code",
      "execution_count": null,
      "id": "3eb4654e-4958-40cf-b79d-32131b0f5e8c",
      "metadata": {
        "id": "3eb4654e-4958-40cf-b79d-32131b0f5e8c",
        "outputId": "1f75731f-5bbb-4320-b329-00c25bb71f60"
      },
      "outputs": [
        {
          "data": {
            "text/plain": [
              "69"
            ]
          },
          "execution_count": 36,
          "metadata": {},
          "output_type": "execute_result"
        }
      ],
      "source": [
        "df['stay_duration'].max()"
      ]
    },
    {
      "cell_type": "code",
      "execution_count": null,
      "id": "8e8092e7-a9a1-4321-b1b3-970bd4c1b7ab",
      "metadata": {
        "id": "8e8092e7-a9a1-4321-b1b3-970bd4c1b7ab",
        "outputId": "07f299c8-3638-4cbc-d823-a318e6de7c70"
      },
      "outputs": [
        {
          "data": {
            "text/html": [
              "<div>\n",
              "<style scoped>\n",
              "    .dataframe tbody tr th:only-of-type {\n",
              "        vertical-align: middle;\n",
              "    }\n",
              "\n",
              "    .dataframe tbody tr th {\n",
              "        vertical-align: top;\n",
              "    }\n",
              "\n",
              "    .dataframe thead th {\n",
              "        text-align: right;\n",
              "    }\n",
              "</style>\n",
              "<table border=\"1\" class=\"dataframe\">\n",
              "  <thead>\n",
              "    <tr style=\"text-align: right;\">\n",
              "      <th></th>\n",
              "      <th>hotel</th>\n",
              "      <th>is_canceled</th>\n",
              "      <th>lead_time</th>\n",
              "      <th>market_segment</th>\n",
              "      <th>distribution_channel</th>\n",
              "      <th>is_repeated_guest</th>\n",
              "      <th>previous_cancellations</th>\n",
              "      <th>booking_changes</th>\n",
              "      <th>deposit_type</th>\n",
              "      <th>customer_type</th>\n",
              "      <th>adr</th>\n",
              "      <th>required_car_parking_spaces</th>\n",
              "      <th>total_of_special_requests</th>\n",
              "      <th>reservation_status</th>\n",
              "      <th>total_guests</th>\n",
              "      <th>stay_duration</th>\n",
              "      <th>Is_local</th>\n",
              "    </tr>\n",
              "  </thead>\n",
              "  <tbody>\n",
              "    <tr>\n",
              "      <th>14038</th>\n",
              "      <td>Resort Hotel</td>\n",
              "      <td>0</td>\n",
              "      <td>126</td>\n",
              "      <td>Direct</td>\n",
              "      <td>Direct</td>\n",
              "      <td>0</td>\n",
              "      <td>0</td>\n",
              "      <td>2</td>\n",
              "      <td>No Deposit</td>\n",
              "      <td>Transient</td>\n",
              "      <td>110.0</td>\n",
              "      <td>0</td>\n",
              "      <td>3</td>\n",
              "      <td>Check-Out</td>\n",
              "      <td>1.0</td>\n",
              "      <td>69</td>\n",
              "      <td>Not local</td>\n",
              "    </tr>\n",
              "  </tbody>\n",
              "</table>\n",
              "</div>"
            ],
            "text/plain": [
              "              hotel  is_canceled  lead_time market_segment  \\\n",
              "14038  Resort Hotel            0        126         Direct   \n",
              "\n",
              "      distribution_channel  is_repeated_guest  previous_cancellations  \\\n",
              "14038               Direct                  0                       0   \n",
              "\n",
              "       booking_changes deposit_type customer_type    adr  \\\n",
              "14038                2   No Deposit     Transient  110.0   \n",
              "\n",
              "       required_car_parking_spaces  total_of_special_requests  \\\n",
              "14038                            0                          3   \n",
              "\n",
              "      reservation_status  total_guests  stay_duration   Is_local  \n",
              "14038          Check-Out           1.0             69  Not local  "
            ]
          },
          "execution_count": 37,
          "metadata": {},
          "output_type": "execute_result"
        }
      ],
      "source": [
        "df[df['stay_duration'] == 69]"
      ]
    },
    {
      "cell_type": "markdown",
      "id": "d4af0fdc-4548-469d-8908-6e41eb5c2480",
      "metadata": {
        "id": "d4af0fdc-4548-469d-8908-6e41eb5c2480"
      },
      "source": [
        "Outlier menunjukkan kalau terdapat guest yang stay di hotel selama 69 hari. Dan dari data terlihat, bahwa guest hanya berjumlah satu orang. Setelah pertimbangan lebih lanjut, kami akan membiarkan outlier ini dikarenakan guest melakukan check out, sehingga data ini benar dan bukan merupakan data palsu"
      ]
    },
    {
      "cell_type": "markdown",
      "id": "8707f32d-e3eb-4494-933e-05328f8ba82d",
      "metadata": {
        "id": "8707f32d-e3eb-4494-933e-05328f8ba82d"
      },
      "source": [
        "Data Correlation"
      ]
    },
    {
      "cell_type": "code",
      "execution_count": null,
      "id": "62af0bbb-a0fb-42e3-8dc3-fee1a20976e5",
      "metadata": {
        "id": "62af0bbb-a0fb-42e3-8dc3-fee1a20976e5",
        "outputId": "c1a52dea-9f43-4b2c-f80a-ee0bf92a71fd"
      },
      "outputs": [
        {
          "data": {
            "image/png": "[encoded data removed]",
            "text/plain": [
              "<Figure size 576x576 with 2 Axes>"
            ]
          },
          "metadata": {
            "needs_background": "light"
          },
          "output_type": "display_data"
        }
      ],
      "source": [
        "plt.figure(figsize=(8,8))\n",
        "sns.heatmap(df[['lead_time','previous_cancellations','booking_changes','adr','required_car_parking_spaces','total_of_special_requests','total_guests',\n",
        "               'stay_duration','is_canceled']].corr(),\n",
        "            cbar=True, annot=True, fmt='.2f', square=True, annot_kws={'size': 15}, cmap='mako');"
      ]
    },
    {
      "cell_type": "markdown",
      "id": "79112954-99ab-47d9-bbd5-58f462177ebd",
      "metadata": {
        "id": "79112954-99ab-47d9-bbd5-58f462177ebd"
      },
      "source": [
        "Dari correlation matrix yang ada, dapat dilihat bahwa fitur paling tinggi korelasinya dengan cancelation rate adalah lead time. Namun tidak ada feature feature yang berkorelasi > 0.7 sehingga tidak ada multicolinearity/redundant"
      ]
    },
    {
      "cell_type": "markdown",
      "id": "b4678347-a31e-453e-bed0-ff765c86e0b9",
      "metadata": {
        "id": "b4678347-a31e-453e-bed0-ff765c86e0b9"
      },
      "source": [
        "Pipeline"
      ]
    },
    {
      "cell_type": "markdown",
      "id": "360d64e1-ee8b-412b-b9fd-d686cad6c436",
      "metadata": {
        "id": "360d64e1-ee8b-412b-b9fd-d686cad6c436"
      },
      "source": [
        "Di bawah ini kami menggunakan pipeline untuk mempermudah proses modelling"
      ]
    },
    {
      "cell_type": "code",
      "execution_count": null,
      "id": "1c147559-6eab-4cca-99d8-2fafb92be218",
      "metadata": {
        "id": "1c147559-6eab-4cca-99d8-2fafb92be218"
      },
      "outputs": [],
      "source": [
        "nums1 = ['lead_time','previous_cancellations','booking_changes','adr','required_car_parking_spaces','total_of_special_requests','total_guests',\n",
        "        'stay_duration']\n",
        "scaler = StandardScaler()\n",
        "power = PowerTransformer(method='yeo-johnson')\n",
        "numeric_pipe = Pipeline([\n",
        "   ('scaler', scaler),\n",
        "   ('power', power)  \n",
        "])\n",
        "\n",
        "ordinal_cat = ['deposit_type','reservation_status','is_repeated_guest']\n",
        "deposit_type_rank = ['No Deposit', 'Refundable','Non Refund']\n",
        "reservation_status_rank = ['Canceled','No-Show','Check-Out']\n",
        "is_repeated_guest_rank = [0, 1]\n",
        "ordinalencoder = OrdinalEncoder(categories=[deposit_type_rank, reservation_status_rank, is_repeated_guest_rank])\n",
        "ordinal_pipe = Pipeline([\n",
        "        ('ordinalencoder', ordinalencoder)  \n",
        "])\n",
        "\n",
        "nominal_cat = ['customer_type','hotel','Is_local']#,'market_segment','distribution_channel']\n",
        "onehotencoder = OneHotEncoder(handle_unknown='ignore', drop = 'first')\n",
        "nominal_pipe = Pipeline([ \n",
        "    ('onehotencoder', onehotencoder)\n",
        "])"
      ]
    },
    {
      "cell_type": "code",
      "execution_count": null,
      "id": "893e4c42-aaee-4021-b3c0-73041c6daa8c",
      "metadata": {
        "id": "893e4c42-aaee-4021-b3c0-73041c6daa8c"
      },
      "outputs": [],
      "source": [
        "preprocessor = ColumnTransformer([\n",
        "    ('numeric_pipe', numeric_pipe, nums1),\n",
        "    ('ordinal_pipe', ordinal_pipe, ordinal_cat),\n",
        "    ('nominal_pipe', nominal_pipe, nominal_cat)\n",
        "])"
      ]
    },
    {
      "cell_type": "code",
      "execution_count": null,
      "id": "71e3ca4f-60d2-457e-b97f-8e7230400af2",
      "metadata": {
        "id": "71e3ca4f-60d2-457e-b97f-8e7230400af2",
        "outputId": "4ece7e58-500d-4689-e84d-3de0aa330548"
      },
      "outputs": [
        {
          "data": {
            "text/plain": [
              "((83573, 16), (35817, 16), (83573,), (35817,))"
            ]
          },
          "execution_count": 41,
          "metadata": {},
          "output_type": "execute_result"
        }
      ],
      "source": [
        "#splitting data\n",
        "X = df.drop(columns=['is_canceled'])\n",
        "y = df['is_canceled']\n",
        "\n",
        "X_train, X_test, y_train, y_test = train_test_split(X, y, test_size=0.3, random_state=42)\n",
        "X_train.shape, X_test.shape, y_train.shape, y_test.shape"
      ]
    },
    {
      "cell_type": "code",
      "execution_count": null,
      "id": "9d3cb0c9-df0c-4850-865d-3b0ff59beb42",
      "metadata": {
        "id": "9d3cb0c9-df0c-4850-865d-3b0ff59beb42"
      },
      "outputs": [],
      "source": [
        "#sampling\n",
        "X_train = X_train.sample(frac = .55)\n",
        "X_test = X_test.sample(frac = .55)\n",
        "y_train = y_train.sample(frac = .55)\n",
        "y_test =  y_test.sample(frac = .55)"
      ]
    },
    {
      "cell_type": "code",
      "execution_count": null,
      "id": "ac1fcced-179f-4c6f-be64-a8a5a9516c45",
      "metadata": {
        "id": "ac1fcced-179f-4c6f-be64-a8a5a9516c45",
        "outputId": "0183450e-0d92-48d9-cbb2-6cba74f76007"
      },
      "outputs": [
        {
          "data": {
            "text/plain": [
              "((45965, 16), (19699, 16), (45965,), (19699,))"
            ]
          },
          "execution_count": 43,
          "metadata": {},
          "output_type": "execute_result"
        }
      ],
      "source": [
        "X_train.shape, X_test.shape, y_train.shape, y_test.shape"
      ]
    },
    {
      "cell_type": "code",
      "execution_count": null,
      "id": "fe31ed42-a51c-4ac3-9e6b-c72c9c818a5d",
      "metadata": {
        "id": "fe31ed42-a51c-4ac3-9e6b-c72c9c818a5d"
      },
      "outputs": [],
      "source": [
        "#cross validation\n",
        "models = [\n",
        "    #['Logistic Regression', LogisticRegression()],\n",
        "    ['KNN', KNeighborsClassifier()],\n",
        "    ['Decision Tree', DecisionTreeClassifier(random_state=42)],\n",
        "    ['Random Forest', RandomForestClassifier(random_state=42)]\n",
        "]\n",
        "def cross_validation(models):\n",
        "    model_name = []\n",
        "\n",
        "    cv_recall_mean = []\n",
        "    cv_recall_std = []\n",
        "    training_recall = []\n",
        "    \n",
        "    cv_precision_mean = []\n",
        "    cv_precision_std = []\n",
        "    training_precision = []\n",
        "    \n",
        "    cv_f1_mean = []\n",
        "    cv_f1_std = []\n",
        "    training_f1 = []\n",
        "    \n",
        "    cv_roc_auc_mean = []\n",
        "    cv_roc_auc_std = []\n",
        "    training_roc_auc = []\n",
        "\n",
        "    for name, model in models:\n",
        "    \n",
        "        pipeline = Pipeline([\n",
        "            ('preprocessor', preprocessor),\n",
        "            ('model', model)\n",
        "        ]) \n",
        "        model_name.append(name)\n",
        "\n",
        "        #scoring\n",
        "        scoring= ['recall', 'precision', 'f1', 'roc_auc']\n",
        "        \n",
        "        #cross_validate \n",
        "        cv_score = cross_validate(pipeline, X_train, y_train, scoring=scoring, cv=10, n_jobs = -1,return_train_score=True)\n",
        "        \n",
        "        # training\n",
        "        training_recall.append(abs(cv_score['train_recall']).mean())\n",
        "        training_precision.append(abs(cv_score['train_precision']).mean())\n",
        "        training_f1.append(abs(cv_score['train_f1']).mean())\n",
        "        training_roc_auc.append(abs(cv_score['train_roc_auc']).mean())\n",
        "        \n",
        "        #tes                  \n",
        "        cv_recall_mean.append(abs(cv_score['test_recall']).mean())\n",
        "        cv_recall_std.append(abs(cv_score['test_recall']).std())\n",
        "        cv_precision_mean.append(abs(cv_score['test_precision']).mean())\n",
        "        cv_precision_std.append(abs(cv_score['test_precision']).std())\n",
        "        cv_f1_mean.append(abs(cv_score['test_f1']).mean())\n",
        "        cv_f1_std.append(abs(cv_score['test_f1']).std())\n",
        "        cv_roc_auc_mean.append(abs(cv_score['test_roc_auc']).mean())\n",
        "        cv_roc_auc_std.append(abs(cv_score['test_roc_auc']).std())\n",
        "        \n",
        "\n",
        "    return pd.DataFrame({\n",
        "        'Model': model_name,\n",
        "        'Training Recall' : training_recall,\n",
        "        'CV Recall (mean)': cv_recall_mean,\n",
        "        'CV Recall (std)': cv_recall_std,\n",
        "        'Training Precision' : training_precision,\n",
        "        'CV Precision (mean)' : cv_precision_mean,\n",
        "        'CV Precision (std)' : cv_precision_std,\n",
        "        'Training F1' : training_f1,\n",
        "        'CV F1 (mean)' : cv_f1_mean,\n",
        "        'CV F1 (std)' : cv_f1_std,\n",
        "        'Training AUC_ROC' : training_roc_auc,\n",
        "        'CV AUC_ROC (mean)' : cv_roc_auc_mean,\n",
        "        'CV AUC_ROC (std)' : cv_roc_auc_std,\n",
        "    })"
      ]
    },
    {
      "cell_type": "code",
      "execution_count": null,
      "id": "3a595660-858a-443f-b0a4-93c23ba7a3b5",
      "metadata": {
        "id": "3a595660-858a-443f-b0a4-93c23ba7a3b5"
      },
      "outputs": [],
      "source": [
        "cv_result = cross_validation(models)"
      ]
    },
    {
      "cell_type": "code",
      "execution_count": null,
      "id": "c86379bc-7c97-4341-8426-7787c6a33b34",
      "metadata": {
        "id": "c86379bc-7c97-4341-8426-7787c6a33b34",
        "outputId": "dcfa0cfd-967d-456f-fc0f-43bf4ddb5f2e"
      },
      "outputs": [
        {
          "data": {
            "text/html": [
              "<div>\n",
              "<style scoped>\n",
              "    .dataframe tbody tr th:only-of-type {\n",
              "        vertical-align: middle;\n",
              "    }\n",
              "\n",
              "    .dataframe tbody tr th {\n",
              "        vertical-align: top;\n",
              "    }\n",
              "\n",
              "    .dataframe thead th {\n",
              "        text-align: right;\n",
              "    }\n",
              "</style>\n",
              "<table border=\"1\" class=\"dataframe\">\n",
              "  <thead>\n",
              "    <tr style=\"text-align: right;\">\n",
              "      <th></th>\n",
              "      <th>Model</th>\n",
              "      <th>Training Recall</th>\n",
              "      <th>CV Recall (mean)</th>\n",
              "      <th>CV Recall (std)</th>\n",
              "      <th>Training Precision</th>\n",
              "      <th>CV Precision (mean)</th>\n",
              "      <th>CV Precision (std)</th>\n",
              "      <th>Training F1</th>\n",
              "      <th>CV F1 (mean)</th>\n",
              "      <th>CV F1 (std)</th>\n",
              "      <th>Training AUC_ROC</th>\n",
              "      <th>CV AUC_ROC (mean)</th>\n",
              "      <th>CV AUC_ROC (std)</th>\n",
              "    </tr>\n",
              "  </thead>\n",
              "  <tbody>\n",
              "    <tr>\n",
              "      <th>0</th>\n",
              "      <td>KNN</td>\n",
              "      <td>0.453118</td>\n",
              "      <td>0.266081</td>\n",
              "      <td>0.010789</td>\n",
              "      <td>0.634167</td>\n",
              "      <td>0.370347</td>\n",
              "      <td>0.009968</td>\n",
              "      <td>0.528552</td>\n",
              "      <td>0.309626</td>\n",
              "      <td>0.010336</td>\n",
              "      <td>0.735638</td>\n",
              "      <td>0.501953</td>\n",
              "      <td>0.007307</td>\n",
              "    </tr>\n",
              "    <tr>\n",
              "      <th>1</th>\n",
              "      <td>Decision Tree</td>\n",
              "      <td>0.793887</td>\n",
              "      <td>0.326748</td>\n",
              "      <td>0.011283</td>\n",
              "      <td>0.958066</td>\n",
              "      <td>0.372582</td>\n",
              "      <td>0.010505</td>\n",
              "      <td>0.868281</td>\n",
              "      <td>0.348090</td>\n",
              "      <td>0.009837</td>\n",
              "      <td>0.979703</td>\n",
              "      <td>0.503597</td>\n",
              "      <td>0.010295</td>\n",
              "    </tr>\n",
              "    <tr>\n",
              "      <th>2</th>\n",
              "      <td>Random Forest</td>\n",
              "      <td>0.824539</td>\n",
              "      <td>0.223277</td>\n",
              "      <td>0.009677</td>\n",
              "      <td>0.926482</td>\n",
              "      <td>0.370840</td>\n",
              "      <td>0.009809</td>\n",
              "      <td>0.872539</td>\n",
              "      <td>0.278655</td>\n",
              "      <td>0.009499</td>\n",
              "      <td>0.975351</td>\n",
              "      <td>0.503658</td>\n",
              "      <td>0.007513</td>\n",
              "    </tr>\n",
              "  </tbody>\n",
              "</table>\n",
              "</div>"
            ],
            "text/plain": [
              "           Model  Training Recall  CV Recall (mean)  CV Recall (std)  \\\n",
              "0            KNN         0.453118          0.266081         0.010789   \n",
              "1  Decision Tree         0.793887          0.326748         0.011283   \n",
              "2  Random Forest         0.824539          0.223277         0.009677   \n",
              "\n",
              "   Training Precision  CV Precision (mean)  CV Precision (std)  Training F1  \\\n",
              "0            0.634167             0.370347            0.009968     0.528552   \n",
              "1            0.958066             0.372582            0.010505     0.868281   \n",
              "2            0.926482             0.370840            0.009809     0.872539   \n",
              "\n",
              "   CV F1 (mean)  CV F1 (std)  Training AUC_ROC  CV AUC_ROC (mean)  \\\n",
              "0      0.309626     0.010336          0.735638           0.501953   \n",
              "1      0.348090     0.009837          0.979703           0.503597   \n",
              "2      0.278655     0.009499          0.975351           0.503658   \n",
              "\n",
              "   CV AUC_ROC (std)  \n",
              "0          0.007307  \n",
              "1          0.010295  \n",
              "2          0.007513  "
            ]
          },
          "execution_count": 46,
          "metadata": {},
          "output_type": "execute_result"
        }
      ],
      "source": [
        "cv_result"
      ]
    },
    {
      "cell_type": "markdown",
      "id": "23b29dae-45e5-4945-a05a-29cdfa47dece",
      "metadata": {
        "id": "23b29dae-45e5-4945-a05a-29cdfa47dece"
      },
      "source": [
        "Hyperparameter Tuning"
      ]
    },
    {
      "cell_type": "code",
      "execution_count": null,
      "id": "2bf444a1-d8cc-4828-bebd-a4e4cdc6e649",
      "metadata": {
        "id": "2bf444a1-d8cc-4828-bebd-a4e4cdc6e649",
        "outputId": "45a9cb6b-195d-4bd3-e2b9-4b119c4fbf36"
      },
      "outputs": [
        {
          "name": "stdout",
          "output_type": "stream",
          "text": [
            "Fitting 10 folds for each of 10 candidates, totalling 100 fits\n",
            "{'algo__n_estimators': 150, 'algo__min_samples_leaf': 1, 'algo__max_features': 0.3, 'algo__max_depth': 50}\n",
            "0.9742303272165563 0.5028389762740256\n"
          ]
        }
      ],
      "source": [
        "#Hyperparameter Tuning (Randomizer)\n",
        "#Hyptun Logistic Regression\n",
        "\n",
        "randomforest = RandomForestClassifier()\n",
        "\n",
        "pipeline = Pipeline([\n",
        "        ('preprocessor', preprocessor),\n",
        "        ('algo', randomforest)\n",
        "    ])\n",
        "\n",
        "param = {'algo__n_estimators': [100, 150, 200],\n",
        " 'algo__max_depth': [20, 50, 80],\n",
        " 'algo__max_features': [0.3, 0.6, 0.8],\n",
        " 'algo__min_samples_leaf': [1, 5, 10]}\n",
        "\n",
        "\n",
        "rs_rf = RandomizedSearchCV(estimator=pipeline, param_distributions=param, scoring='roc_auc', random_state=42, cv=10, n_jobs=-1, verbose=1)\n",
        "rs_rf.fit(X_train, y_train)\n",
        "\n",
        "print(rs_rf.best_params_)\n",
        "print(rs_rf.score(X_train, y_train), rs_rf.best_score_)"
      ]
    },
    {
      "cell_type": "code",
      "execution_count": null,
      "id": "e8b7fb91-ea11-4c78-a7e5-56969c0f776c",
      "metadata": {
        "id": "e8b7fb91-ea11-4c78-a7e5-56969c0f776c"
      },
      "outputs": [],
      "source": [
        "randomforest = RandomForestClassifier(n_estimators = 100, min_samples_leaf= 1,max_features = 0.3,max_depth = 20)\n",
        "model = Pipeline([\n",
        "        ('preprocessor', preprocessor),\n",
        "        ('algo', randomforest)\n",
        "    ]).fit(X_train, y_train)"
      ]
    },
    {
      "cell_type": "code",
      "execution_count": null,
      "id": "f47daec8-08c2-442c-b8a5-58b72256a344",
      "metadata": {
        "id": "f47daec8-08c2-442c-b8a5-58b72256a344"
      },
      "outputs": [],
      "source": [
        "y_pred = model.predict(X_test) "
      ]
    },
    {
      "cell_type": "code",
      "execution_count": null,
      "id": "b7c1c7bb-b9d8-4f3c-a53c-272e0ccc21d3",
      "metadata": {
        "id": "b7c1c7bb-b9d8-4f3c-a53c-272e0ccc21d3",
        "outputId": "0e8dbb31-6108-40ea-a0cc-070f614044c1"
      },
      "outputs": [
        {
          "data": {
            "text/plain": [
              "0.4975905819683903"
            ]
          },
          "execution_count": 50,
          "metadata": {},
          "output_type": "execute_result"
        }
      ],
      "source": [
        "roc_auc_score(y_test,y_pred)"
      ]
    },
    {
      "cell_type": "code",
      "execution_count": null,
      "id": "c94041b5-0dc9-4ecd-8384-2b542541dbad",
      "metadata": {
        "id": "c94041b5-0dc9-4ecd-8384-2b542541dbad",
        "outputId": "78046399-cba6-4fcf-8370-b61aeb6c02d1"
      },
      "outputs": [
        {
          "name": "stdout",
          "output_type": "stream",
          "text": [
            "              precision    recall  f1-score   support\n",
            "\n",
            "           0       0.68      1.00      0.81     29004\n",
            "           1       0.97      0.22      0.35     16961\n",
            "\n",
            "    accuracy                           0.71     45965\n",
            "   macro avg       0.83      0.61      0.58     45965\n",
            "weighted avg       0.79      0.71      0.64     45965\n",
            "\n"
          ]
        },
        {
          "data": {
            "text/plain": [
              "Text(56.5, 0.5, 'Realita')"
            ]
          },
          "execution_count": 51,
          "metadata": {},
          "output_type": "execute_result"
        },
        {
          "data": {
            "image/png": "[encoded data removed]",
            "text/plain": [
              "<Figure size 720x576 with 2 Axes>"
            ]
          },
          "metadata": {},
          "output_type": "display_data"
        }
      ],
      "source": [
        "#confusion pada data train logreg\n",
        "plt.rcParams['figure.figsize'] = (10,8)\n",
        "sns.set(font_scale=2)\n",
        "cnf_matrix = metrics.confusion_matrix(y_train, model.predict(X_train))\n",
        "print(metrics.classification_report(y_train, model.predict(X_train)))\n",
        "sns.heatmap(cnf_matrix,cmap='coolwarm_r',annot=True,linewidth=0.5,fmt='d')\n",
        "plt.title('Confusion Matrix')\n",
        "\n",
        "plt.xlabel('Prediksi')\n",
        "plt.ylabel('Realita')"
      ]
    },
    {
      "cell_type": "code",
      "execution_count": null,
      "id": "52b079e6-1473-41cf-8b65-51d86ed69e5f",
      "metadata": {
        "id": "52b079e6-1473-41cf-8b65-51d86ed69e5f"
      },
      "outputs": [],
      "source": [
        "asa = model[:-1].get_feature_names_out()\n",
        "feat_importances = model.steps[1][1].feature_importances_"
      ]
    },
    {
      "cell_type": "code",
      "execution_count": null,
      "id": "ba431ed0-2ea2-4852-9290-4ad112f03124",
      "metadata": {
        "id": "ba431ed0-2ea2-4852-9290-4ad112f03124"
      },
      "outputs": [],
      "source": [
        "# Zip coefficients and names together and make a DataFrame\n",
        "zipped = zip(asa, feat_importances)\n",
        "df_feat = pd.DataFrame(zipped, columns=[\"feature\", \"value\"])\n",
        "# Sort the features by the absolute value of their coefficient\n",
        "df_feat[\"abs_value\"] = df_feat[\"value\"].apply(lambda x: abs(x))\n",
        "df_feat[\"colors\"] = df_feat[\"value\"].apply(lambda x: \"green\" if x > 0 else \"red\")\n",
        "df_feat = df_feat.sort_values(\"abs_value\", ascending=False)"
      ]
    },
    {
      "cell_type": "code",
      "execution_count": null,
      "id": "5120aa1c-5a6c-4608-a8cf-25bbac5a48f2",
      "metadata": {
        "id": "5120aa1c-5a6c-4608-a8cf-25bbac5a48f2"
      },
      "outputs": [],
      "source": [
        "fig, ax = plt.subplots(1, 1, figsize=(12, 7))\n",
        "sns.barplot(x=\"feature\",\n",
        "            y=\"value\",\n",
        "            data=df_feat.head(20),\n",
        "           palette=df_feat.head(20)[\"colors\"])\n",
        "ax.set_xticklabels(ax.get_xticklabels(), rotation=90, fontsize=20)\n",
        "ax.set_title(\"Top 20 Features\", fontsize=25)\n",
        "ax.set_ylabel(\"Coef\", fontsize=22)\n",
        "ax.set_xlabel(\"Feature Name\", fontsize=22)"
      ]
    },
    {
      "cell_type": "code",
      "execution_count": null,
      "id": "1d563fe0-d9e5-4e84-adef-f72cdb4657c2",
      "metadata": {
        "id": "1d563fe0-d9e5-4e84-adef-f72cdb4657c2"
      },
      "outputs": [],
      "source": [
        "hasil_prediksi = model.predict(X_test)\n",
        "pred1 = hasil_prediksi[0]"
      ]
    },
    {
      "cell_type": "code",
      "execution_count": null,
      "id": "a1274ea2-82e5-4986-909d-d0acdda1508e",
      "metadata": {
        "id": "a1274ea2-82e5-4986-909d-d0acdda1508e"
      },
      "outputs": [],
      "source": [
        "pred2 = hasil_prediksi[1]"
      ]
    },
    {
      "cell_type": "code",
      "execution_count": null,
      "id": "d9b51906-9d49-4c55-b600-775efc593d96",
      "metadata": {
        "id": "d9b51906-9d49-4c55-b600-775efc593d96"
      },
      "outputs": [],
      "source": [
        "pred3 = hasil_prediksi[5]"
      ]
    },
    {
      "cell_type": "code",
      "execution_count": null,
      "id": "7eac1a8c-f369-4d0a-8737-621bfc0e6e9a",
      "metadata": {
        "id": "7eac1a8c-f369-4d0a-8737-621bfc0e6e9a",
        "outputId": "1c9d515f-63f2-4814-bd80-381a515c86c5"
      },
      "outputs": [
        {
          "data": {
            "text/plain": [
              "38943     0\n",
              "30587     0\n",
              "114396    0\n",
              "104104    0\n",
              "54600     1\n",
              "         ..\n",
              "89446     0\n",
              "78302     0\n",
              "31997     0\n",
              "65473     1\n",
              "6362      1\n",
              "Name: is_canceled, Length: 19699, dtype: int64"
            ]
          },
          "execution_count": 97,
          "metadata": {},
          "output_type": "execute_result"
        }
      ],
      "source": [
        "y_test"
      ]
    },
    {
      "cell_type": "code",
      "execution_count": null,
      "id": "c222feb3-b486-4c23-affb-dd0b9e0a8a8e",
      "metadata": {
        "id": "c222feb3-b486-4c23-affb-dd0b9e0a8a8e",
        "outputId": "be7d1858-bdde-4d26-942f-52a684406c5b"
      },
      "outputs": [
        {
          "name": "stdout",
          "output_type": "stream",
          "text": [
            "Pelanggan aslinya :  0\n",
            "Pelanggan diprediksi :  0\n"
          ]
        }
      ],
      "source": [
        "print('Pelanggan aslinya : ', y_test[38943])\n",
        "print('Pelanggan diprediksi : ',pred1)"
      ]
    },
    {
      "cell_type": "code",
      "execution_count": null,
      "id": "2e691557-16cd-4ba0-847e-c521e26cf5c3",
      "metadata": {
        "id": "2e691557-16cd-4ba0-847e-c521e26cf5c3",
        "outputId": "f24ae47a-2d87-4858-c139-ef948b86f781"
      },
      "outputs": [
        {
          "name": "stdout",
          "output_type": "stream",
          "text": [
            "Pelanggan aslinya :  0\n",
            "Pelanggan diprediksi :  0\n"
          ]
        }
      ],
      "source": [
        "print('Pelanggan aslinya : ', y_test[30587])\n",
        "print('Pelanggan diprediksi : ',pred2)"
      ]
    },
    {
      "cell_type": "code",
      "execution_count": null,
      "id": "497edda0-cafb-418d-a6b2-d2acf20470b7",
      "metadata": {
        "id": "497edda0-cafb-418d-a6b2-d2acf20470b7",
        "outputId": "382fb38e-3bd9-47b9-90ef-868cdf33f246"
      },
      "outputs": [
        {
          "name": "stdout",
          "output_type": "stream",
          "text": [
            "Pelanggan aslinya :  1\n",
            "Pelanggan diprediksi :  0\n"
          ]
        }
      ],
      "source": [
        "print('Pelanggan aslinya : ', y_test[54600])\n",
        "print('Pelanggan diprediksi : ',pred3)"
      ]
    }
  ],
  "metadata": {
    "kernelspec": {
      "display_name": "Python 3 (ipykernel)",
      "language": "python",
      "name": "python3"
    },
    "language_info": {
      "codemirror_mode": {
        "name": "ipython",
        "version": 3
      },
      "file_extension": ".py",
      "mimetype": "text/x-python",
      "name": "python",
      "nbconvert_exporter": "python",
      "pygments_lexer": "ipython3",
      "version": "3.9.7"
    },
    "colab": {
      "provenance": []
    }
  },
  "nbformat": 4,
  "nbformat_minor": 5
}